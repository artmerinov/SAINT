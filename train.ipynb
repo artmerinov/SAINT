{
 "cells": [
  {
   "cell_type": "code",
   "execution_count": 1,
   "metadata": {},
   "outputs": [],
   "source": [
    "import torch\n",
    "import torch.nn as nn\n",
    "from tqdm import tqdm\n",
    "\n",
    "from utils import Config, set_random_seed\n",
    "from dataset import get_dataset, train_test_split, RIIIDDataset\n",
    "from torch.utils.data import DataLoader\n",
    "from sklearn.metrics import roc_auc_score, accuracy_score\n",
    "from model import SaintPlusTransformer\n",
    "\n",
    "%load_ext autoreload\n",
    "%autoreload 2\n",
    "\n",
    "set_random_seed(0)"
   ]
  },
  {
   "cell_type": "code",
   "execution_count": 2,
   "metadata": {},
   "outputs": [
    {
     "data": {
      "text/plain": [
       "{'PATH_TO_TRAIN': 'data/train.csv',\n",
       " 'PATH_TO_QUESTIONS': 'data/questions.csv',\n",
       " 'TR_FRAC': 0.9,\n",
       " 'MAX_LEN': 100,\n",
       " 'BATCH_SIZE': 64,\n",
       " 'QUESTION_VOCAB_SIZE': 13523,\n",
       " 'ANSWER_CORR_VOCAB_SIZE': 2,\n",
       " 'PART_VOCAB_SIZE': 7,\n",
       " 'EMBED_SIZE': 128,\n",
       " 'HIDDEN_SIZE': 512,\n",
       " 'DROPOUT': 0.1,\n",
       " 'HEADS': 8,\n",
       " 'LAYERS': 1}"
      ]
     },
     "execution_count": 2,
     "metadata": {},
     "output_type": "execute_result"
    }
   ],
   "source": [
    "config = Config('config.yaml')\n",
    "config.__dict__"
   ]
  },
  {
   "cell_type": "code",
   "execution_count": 3,
   "metadata": {},
   "outputs": [
    {
     "name": "stdout",
     "output_type": "stream",
     "text": [
      "980084\n"
     ]
    }
   ],
   "source": [
    "data = get_dataset(config)\n",
    "print(len(data))"
   ]
  },
  {
   "cell_type": "code",
   "execution_count": 4,
   "metadata": {},
   "outputs": [],
   "source": [
    "tr_data, va_data = train_test_split(data=data, config=config)\n",
    "\n",
    "tr_data = RIIIDDataset(dataset=tr_data, config=config)\n",
    "va_data = RIIIDDataset(dataset=va_data, config=config)\n",
    "\n",
    "tr_dataloader = DataLoader(dataset=tr_data, batch_size=config.BATCH_SIZE, shuffle=True)\n",
    "va_dataloader = DataLoader(dataset=va_data, batch_size=config.BATCH_SIZE, shuffle=True)"
   ]
  },
  {
   "cell_type": "code",
   "execution_count": 5,
   "metadata": {},
   "outputs": [],
   "source": [
    "# tr_data.__getitem__(123)"
   ]
  },
  {
   "cell_type": "code",
   "execution_count": 6,
   "metadata": {},
   "outputs": [],
   "source": [
    "# for tr_batch in tqdm(tr_dataloader):\n",
    "#     pass"
   ]
  },
  {
   "cell_type": "markdown",
   "metadata": {},
   "source": [
    "# Train"
   ]
  },
  {
   "cell_type": "code",
   "execution_count": 7,
   "metadata": {},
   "outputs": [],
   "source": [
    "device = torch.device(\"cuda\" if torch.cuda.is_available() else \"cpu\")\n",
    "\n",
    "model = SaintPlusTransformer(\n",
    "    question_vocab_size    = config.QUESTION_VOCAB_SIZE + 1,\n",
    "    answer_corr_vocab_size = config.ANSWER_CORR_VOCAB_SIZE + 1,\n",
    "    part_vocab_size        = config.PART_VOCAB_SIZE + 1,\n",
    "    max_len                = config.MAX_LEN - 1,\n",
    "    embed_size             = config.EMBED_SIZE,\n",
    "    hidden_size            = config.HIDDEN_SIZE,\n",
    "    dropout                = config.DROPOUT,\n",
    "    heads                  = config.HEADS,\n",
    "    N                      = config.LAYERS\n",
    ").to(device)"
   ]
  },
  {
   "cell_type": "code",
   "execution_count": 8,
   "metadata": {},
   "outputs": [
    {
     "name": "stderr",
     "output_type": "stream",
     "text": [
      "Processing Epoch 00: 100%|██████████| 54/54 [00:33<00:00,  1.62it/s, loss=0.695]\n"
     ]
    },
    {
     "name": "stdout",
     "output_type": "stream",
     "text": [
      "TRAIN ACCURACY: 0.5787\n",
      "TRAIN ROC-AUC: 0.5985\n"
     ]
    },
    {
     "name": "stderr",
     "output_type": "stream",
     "text": [
      "100%|██████████| 6/6 [00:01<00:00,  5.99it/s]"
     ]
    },
    {
     "name": "stdout",
     "output_type": "stream",
     "text": [
      "VALID ACCURACY: 0.6093\n",
      "VALID ROC-AUC: 0.6470\n"
     ]
    },
    {
     "name": "stderr",
     "output_type": "stream",
     "text": [
      "\n"
     ]
    }
   ],
   "source": [
    "optimizer = torch.optim.Adam(params=model.parameters(), lr=1e-4, eps=1e-9)\n",
    "loss_fn = nn.CrossEntropyLoss(ignore_index=0).to(device)\n",
    "\n",
    "for epoch in range(1):\n",
    "    \n",
    "    tr_true = []\n",
    "    tr_pred_label = []\n",
    "    tr_pred_probs = []\n",
    "\n",
    "    torch.cuda.empty_cache()\n",
    "    model.train()\n",
    "    batch_iterator = tqdm(tr_dataloader, desc=f\"Processing Epoch {epoch:02d}\")\n",
    "    for tr_batch in batch_iterator:\n",
    "        \n",
    "        # enc\n",
    "        ex = tr_batch['ex'].to(device)\n",
    "        ep = tr_batch['ep'].to(device)\n",
    "\n",
    "        # dec\n",
    "        ac = tr_batch['ac'].to(device) \n",
    "\n",
    "        # label\n",
    "        label = tr_batch['label'].to(device).long()\n",
    "\n",
    "        # masks\n",
    "        src_mask = tr_batch['src_mask'].to(device)\n",
    "        tgt_mask = tr_batch['tgt_mask'].to(device)\n",
    "\n",
    "        preds = model(\n",
    "            src=ex, \n",
    "            tgt=ac,\n",
    "            src_mask=src_mask, \n",
    "            tgt_mask=tgt_mask,\n",
    "            part=ep,\n",
    "        )\n",
    "        \n",
    "        _, pred_labels = torch.max(preds[:,-1], dim=1)\n",
    "        pred_probs = torch.softmax(preds[:,-1][:,1:3], dim=-1)\n",
    "        \n",
    "        loss = loss_fn(\n",
    "            target=label.view(-1), # (batch_size * max_len)\n",
    "            input=preds.view(-1, config.ANSWER_CORR_VOCAB_SIZE + 1), # (batch_size * max_len, vocab_size)\n",
    "        )\n",
    "\n",
    "        batch_iterator.set_postfix({\"loss\": f\"{loss.item():6.3f}\"})\n",
    "\n",
    "        # backpropagate the loss\n",
    "        loss.backward()\n",
    "\n",
    "        # update the weights\n",
    "        optimizer.step()\n",
    "        optimizer.zero_grad(set_to_none=True)\n",
    "        \n",
    "        tr_true.extend(label[:,-1].cpu().detach().numpy())\n",
    "        tr_pred_label.extend(pred_labels.cpu().detach().numpy())\n",
    "        tr_pred_probs.extend(pred_probs[:,1].cpu().detach().numpy())\n",
    "    \n",
    "    print(f'TR ACC: {accuracy_score(tr_true, tr_pred_label):.4f} TR AUC: {roc_auc_score(tr_true, tr_pred_probs):.4f}')\n",
    "    \n",
    "    ########################\n",
    "    ########################\n",
    "\n",
    "    va_true = []\n",
    "    va_pred_label = []\n",
    "    va_pred_probs = []\n",
    "\n",
    "    model.eval()\n",
    "    with torch.no_grad():\n",
    "        for va_batch in tqdm(va_dataloader):\n",
    "\n",
    "            # enc\n",
    "            ex = va_batch['ex'].to(device)\n",
    "            ep = va_batch['ep'].to(device)\n",
    "\n",
    "            # dec\n",
    "            ac = va_batch['ac'].to(device) \n",
    "\n",
    "            # label\n",
    "            label = va_batch['label'].to(device).long()\n",
    "\n",
    "            # masks\n",
    "            src_mask = va_batch['src_mask'].to(device)\n",
    "            tgt_mask = va_batch['tgt_mask'].to(device)\n",
    "\n",
    "            preds = model(\n",
    "                src=ex, \n",
    "                tgt=ac,\n",
    "                src_mask=src_mask, \n",
    "                tgt_mask=tgt_mask,\n",
    "                part=ep,\n",
    "            )\n",
    "\n",
    "            _, pred_labels = torch.max(preds[:,-1], dim=1)\n",
    "            pred_probs = torch.softmax(preds[:,-1][:,1:3], dim=-1)\n",
    "\n",
    "            va_true.extend(label[:,-1].cpu().detach().numpy())\n",
    "            va_pred_label.extend(pred_labels.cpu().detach().numpy())\n",
    "            va_pred_probs.extend(pred_probs[:,1].cpu().detach().numpy())\n",
    "\n",
    "        print(f'VA ACC: {accuracy_score(va_true, va_pred_label):.4f} VA AUC: {roc_auc_score(va_true, va_pred_probs):.4f}')\n",
    "        print()"
   ]
  },
  {
   "cell_type": "code",
   "execution_count": null,
   "metadata": {},
   "outputs": [],
   "source": []
  }
 ],
 "metadata": {
  "kernelspec": {
   "display_name": ".venv",
   "language": "python",
   "name": "python3"
  },
  "language_info": {
   "codemirror_mode": {
    "name": "ipython",
    "version": 3
   },
   "file_extension": ".py",
   "mimetype": "text/x-python",
   "name": "python",
   "nbconvert_exporter": "python",
   "pygments_lexer": "ipython3",
   "version": "3.10.10"
  },
  "orig_nbformat": 4
 },
 "nbformat": 4,
 "nbformat_minor": 2
}
