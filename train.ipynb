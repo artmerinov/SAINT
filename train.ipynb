{
 "cells": [
  {
   "cell_type": "code",
   "execution_count": 10,
   "metadata": {},
   "outputs": [
    {
     "name": "stdout",
     "output_type": "stream",
     "text": [
      "The autoreload extension is already loaded. To reload it, use:\n",
      "  %reload_ext autoreload\n"
     ]
    }
   ],
   "source": [
    "import torch\n",
    "import torch.nn as nn\n",
    "from tqdm import tqdm\n",
    "\n",
    "from utils import Config, set_random_seed\n",
    "from dataset import get_dataset, train_test_split, RIIIDDataset\n",
    "from torch.utils.data import DataLoader\n",
    "from sklearn.metrics import roc_auc_score, accuracy_score\n",
    "from model import SaintPlusTransformer\n",
    "\n",
    "%load_ext autoreload\n",
    "%autoreload 2\n",
    "\n",
    "set_random_seed(0)"
   ]
  },
  {
   "cell_type": "code",
   "execution_count": 25,
   "metadata": {},
   "outputs": [
    {
     "data": {
      "text/plain": [
       "{'DATASOURCE': 'data/train_sample.csv',\n",
       " 'TR_FRAC': 0.9,\n",
       " 'MAX_LEN': 100,\n",
       " 'BATCH_SIZE': 64}"
      ]
     },
     "execution_count": 25,
     "metadata": {},
     "output_type": "execute_result"
    }
   ],
   "source": [
    "config = Config('config.yaml')\n",
    "config.__dict__"
   ]
  },
  {
   "cell_type": "code",
   "execution_count": 26,
   "metadata": {},
   "outputs": [
    {
     "name": "stdout",
     "output_type": "stream",
     "text": [
      "980084\n"
     ]
    }
   ],
   "source": [
    "data = get_dataset(config)\n",
    "print(len(data))"
   ]
  },
  {
   "cell_type": "code",
   "execution_count": 27,
   "metadata": {},
   "outputs": [],
   "source": [
    "tr_data, va_data = train_test_split(data=data, config=config)\n",
    "\n",
    "tr_data = RIIIDDataset(dataset=tr_data, config=config)\n",
    "va_data = RIIIDDataset(dataset=va_data, config=config)\n",
    "\n",
    "tr_dataloader = DataLoader(dataset=tr_data, batch_size=config.BATCH_SIZE, shuffle=True)\n",
    "va_dataloader = DataLoader(dataset=va_data, batch_size=config.BATCH_SIZE, shuffle=True)"
   ]
  },
  {
   "cell_type": "code",
   "execution_count": 28,
   "metadata": {},
   "outputs": [
    {
     "data": {
      "text/plain": [
       "{'ex': tensor([   0,    0,    0,    0,    0,    0,    0,    0,    0,    0,    0,    0,\n",
       "            0,    0,    0,    0,    0,    0,    0,    0,    0,    0,    0,    0,\n",
       "            0,    0,    0,    0,    0,    0,    0,    0,    0,    0,    0,    0,\n",
       "            0,    0,    0,    0,    0,    0,    0,    0,    0,    0,    0,    0,\n",
       "            0,    0,    0,    0,    0,    0,    0,    0,    0,    0,    0,    0,\n",
       "            0,    0,    0,    0,    0,    0,    0,    0,    0, 7901, 7877,  176,\n",
       "         1279, 2066, 2065, 2064, 3364, 3366, 3365, 2949, 2947, 2948, 2594, 2595,\n",
       "         2596, 4493, 4121, 4697, 6117, 6174, 6371, 6880, 6881, 6878, 6879, 7219,\n",
       "         7218, 7217, 7220], dtype=torch.int32),\n",
       " 'ac': tensor([0, 0, 0, 0, 0, 0, 0, 0, 0, 0, 0, 0, 0, 0, 0, 0, 0, 0, 0, 0, 0, 0, 0, 0,\n",
       "         0, 0, 0, 0, 0, 0, 0, 0, 0, 0, 0, 0, 0, 0, 0, 0, 0, 0, 0, 0, 0, 0, 0, 0,\n",
       "         0, 0, 0, 0, 0, 0, 0, 0, 0, 0, 0, 0, 0, 0, 0, 0, 0, 0, 0, 0, 0, 0, 1, 2,\n",
       "         1, 2, 2, 2, 1, 1, 1, 1, 1, 1, 1, 2, 2, 2, 1, 1, 2, 1, 1, 2, 1, 1, 2, 1,\n",
       "         2, 1, 1], dtype=torch.int32),\n",
       " 'ua': tensor([0, 0, 0, 0, 0, 0, 0, 0, 0, 0, 0, 0, 0, 0, 0, 0, 0, 0, 0, 0, 0, 0, 0, 0,\n",
       "         0, 0, 0, 0, 0, 0, 0, 0, 0, 0, 0, 0, 0, 0, 0, 0, 0, 0, 0, 0, 0, 0, 0, 0,\n",
       "         0, 0, 0, 0, 0, 0, 0, 0, 0, 0, 0, 0, 0, 0, 0, 0, 0, 0, 0, 0, 0, 0, 3, 4,\n",
       "         1, 4, 3, 2, 4, 1, 1, 4, 2, 2, 4, 4, 3, 1, 2, 4, 1, 1, 2, 3, 4, 3, 3, 3,\n",
       "         3, 2, 1], dtype=torch.int32),\n",
       " 'label': tensor([0, 0, 0, 0, 0, 0, 0, 0, 0, 0, 0, 0, 0, 0, 0, 0, 0, 0, 0, 0, 0, 0, 0, 0,\n",
       "         0, 0, 0, 0, 0, 0, 0, 0, 0, 0, 0, 0, 0, 0, 0, 0, 0, 0, 0, 0, 0, 0, 0, 0,\n",
       "         0, 0, 0, 0, 0, 0, 0, 0, 0, 0, 0, 0, 0, 0, 0, 0, 0, 0, 0, 0, 0, 1, 2, 1,\n",
       "         2, 2, 2, 1, 1, 1, 1, 1, 1, 1, 2, 2, 2, 1, 1, 2, 1, 1, 2, 1, 1, 2, 1, 2,\n",
       "         1, 1, 2], dtype=torch.int32),\n",
       " 'src_mask': tensor([[[0, 0, 0, 0, 0, 0, 0, 0, 0, 0, 0, 0, 0, 0, 0, 0, 0, 0, 0, 0, 0, 0, 0,\n",
       "           0, 0, 0, 0, 0, 0, 0, 0, 0, 0, 0, 0, 0, 0, 0, 0, 0, 0, 0, 0, 0, 0, 0,\n",
       "           0, 0, 0, 0, 0, 0, 0, 0, 0, 0, 0, 0, 0, 0, 0, 0, 0, 0, 0, 0, 0, 0, 0,\n",
       "           1, 1, 1, 1, 1, 1, 1, 1, 1, 1, 1, 1, 1, 1, 1, 1, 1, 1, 1, 1, 1, 1, 1,\n",
       "           1, 1, 1, 1, 1, 1, 1]]], dtype=torch.int32),\n",
       " 'tgt_mask': tensor([[[0, 0, 0,  ..., 0, 0, 0],\n",
       "          [0, 0, 0,  ..., 0, 0, 0],\n",
       "          [0, 0, 0,  ..., 0, 0, 0],\n",
       "          ...,\n",
       "          [0, 0, 0,  ..., 1, 0, 0],\n",
       "          [0, 0, 0,  ..., 1, 1, 0],\n",
       "          [0, 0, 0,  ..., 1, 1, 1]]], dtype=torch.int32)}"
      ]
     },
     "execution_count": 28,
     "metadata": {},
     "output_type": "execute_result"
    }
   ],
   "source": [
    "tr_data.__getitem__(123)"
   ]
  },
  {
   "cell_type": "code",
   "execution_count": 29,
   "metadata": {},
   "outputs": [
    {
     "name": "stderr",
     "output_type": "stream",
     "text": [
      "100%|██████████| 54/54 [00:01<00:00, 34.56it/s]\n"
     ]
    }
   ],
   "source": [
    "for tr_batch in tqdm(tr_dataloader):\n",
    "    pass"
   ]
  },
  {
   "cell_type": "markdown",
   "metadata": {},
   "source": [
    "# Train"
   ]
  },
  {
   "cell_type": "code",
   "execution_count": 37,
   "metadata": {},
   "outputs": [
    {
     "data": {
      "text/plain": [
       "13522"
      ]
     },
     "execution_count": 37,
     "metadata": {},
     "output_type": "execute_result"
    }
   ],
   "source": [
    "data['content_id'].max()"
   ]
  },
  {
   "cell_type": "code",
   "execution_count": 47,
   "metadata": {},
   "outputs": [],
   "source": [
    "device = torch.device(\"cuda\" if torch.cuda.is_available() else \"cpu\")\n",
    "\n",
    "model = SaintPlusTransformer(\n",
    "    question_vocab_size=13523+1,\n",
    "    answer_corr_vocab_size=2+1,\n",
    "    max_len=config.MAX_LEN-1,\n",
    "    embed_size=128,\n",
    "    hidden_size=4*128,\n",
    "    dropout=0.1,\n",
    "    heads=8,\n",
    "    N=1\n",
    ").to(device)"
   ]
  },
  {
   "cell_type": "code",
   "execution_count": 48,
   "metadata": {},
   "outputs": [
    {
     "name": "stderr",
     "output_type": "stream",
     "text": [
      "Processing Epoch 00:   0%|          | 0/54 [00:00<?, ?it/s]"
     ]
    },
    {
     "name": "stderr",
     "output_type": "stream",
     "text": [
      "Processing Epoch 00: 100%|██████████| 54/54 [00:32<00:00,  1.65it/s, loss=0.697]\n"
     ]
    },
    {
     "name": "stdout",
     "output_type": "stream",
     "text": [
      "TRAIN ACCURACY: 0.5498\n",
      "TRAIN ROCAUC: 0.5663\n"
     ]
    },
    {
     "name": "stderr",
     "output_type": "stream",
     "text": [
      "100%|██████████| 6/6 [00:01<00:00,  5.96it/s]"
     ]
    },
    {
     "name": "stdout",
     "output_type": "stream",
     "text": [
      "VALID ACCURACY: 0.6066\n",
      "VALID ROCAUC: 0.6487\n"
     ]
    },
    {
     "name": "stderr",
     "output_type": "stream",
     "text": [
      "\n"
     ]
    }
   ],
   "source": [
    "optimizer = torch.optim.Adam(params=model.parameters(), lr=1e-4, eps=1e-9)\n",
    "loss_fn = nn.CrossEntropyLoss(ignore_index=0).to(device)\n",
    "\n",
    "for epoch in range(1):\n",
    "    \n",
    "    tr_true = []\n",
    "    tr_pred_label = []\n",
    "    tr_pred_probs = []\n",
    "\n",
    "    torch.cuda.empty_cache()\n",
    "    model.train()\n",
    "    batch_iterator = tqdm(tr_dataloader, desc=f\"Processing Epoch {epoch:02d}\")\n",
    "    for tr_batch in batch_iterator:\n",
    "        \n",
    "        # enc\n",
    "        ex = tr_batch['ex'].to(device) \n",
    "\n",
    "        # dec\n",
    "        ac = tr_batch['ac'].to(device) \n",
    "\n",
    "        # label\n",
    "        label = tr_batch['label'].to(device).long()\n",
    "\n",
    "        # masks\n",
    "        src_mask = tr_batch['src_mask'].to(device)\n",
    "        tgt_mask = tr_batch['tgt_mask'].to(device)\n",
    "\n",
    "        preds = model(\n",
    "            src=ex, \n",
    "            tgt=ac,\n",
    "            src_mask=src_mask, \n",
    "            tgt_mask=tgt_mask,\n",
    "        )\n",
    "        \n",
    "        _, pred_labels = torch.max(preds[:,-1], dim=1)\n",
    "        pred_probs = torch.softmax(preds[:,-1][:,1:3], dim=-1)\n",
    "        \n",
    "        loss = loss_fn(\n",
    "            target=label.view(-1), # (batch_size * max_len)\n",
    "            input=preds.view(-1, 3), # (batch_size * max_len, vocab_size)\n",
    "        )\n",
    "\n",
    "        batch_iterator.set_postfix({\"loss\": f\"{loss.item():6.3f}\"})\n",
    "\n",
    "        # backpropagate the loss\n",
    "        loss.backward()\n",
    "\n",
    "        # update the weights\n",
    "        optimizer.step()\n",
    "        optimizer.zero_grad(set_to_none=True)\n",
    "        \n",
    "        tr_true.extend(label[:,-1].cpu().detach().numpy())\n",
    "        tr_pred_label.extend(pred_labels.cpu().detach().numpy())\n",
    "        tr_pred_probs.extend(pred_probs[:,1].cpu().detach().numpy())\n",
    "    \n",
    "    print(f'TRAIN ACCURACY: {accuracy_score(tr_true, tr_pred_label):.4f}')\n",
    "    print(f'TRAIN ROC-AUC: {roc_auc_score(tr_true, tr_pred_probs):.4f}')\n",
    "    \n",
    "    ########################\n",
    "    ########################\n",
    "\n",
    "    va_true = []\n",
    "    va_pred_label = []\n",
    "    va_pred_probs = []\n",
    "\n",
    "    model.eval()\n",
    "    with torch.no_grad():\n",
    "        for va_batch in tqdm(va_dataloader):\n",
    "\n",
    "            # enc\n",
    "            ex = va_batch['ex'].to(device)\n",
    "\n",
    "            # dec\n",
    "            ac = va_batch['ac'].to(device) \n",
    "\n",
    "            # label\n",
    "            label = va_batch['label'].to(device).long()\n",
    "\n",
    "            # masks\n",
    "            src_mask = va_batch['src_mask'].to(device)\n",
    "            tgt_mask = va_batch['tgt_mask'].to(device)\n",
    "\n",
    "            preds = model(\n",
    "                src=ex, \n",
    "                tgt=ac,\n",
    "                src_mask=src_mask, \n",
    "                tgt_mask=tgt_mask,\n",
    "            )\n",
    "\n",
    "            _, pred_labels = torch.max(preds[:,-1], dim=1)\n",
    "            pred_probs = torch.softmax(preds[:,-1][:,1:3], dim=-1)\n",
    "\n",
    "            va_true.extend(label[:,-1].cpu().detach().numpy())\n",
    "            va_pred_label.extend(pred_labels.cpu().detach().numpy())\n",
    "            va_pred_probs.extend(pred_probs[:,1].cpu().detach().numpy())\n",
    "\n",
    "        print(f'VALID ACCURACY: {accuracy_score(va_true, va_pred_label):.4f}')\n",
    "        print(f'VALID ROC-AUC: {roc_auc_score(va_true, va_pred_probs):.4f}')"
   ]
  },
  {
   "cell_type": "code",
   "execution_count": null,
   "metadata": {},
   "outputs": [],
   "source": []
  }
 ],
 "metadata": {
  "kernelspec": {
   "display_name": ".venv",
   "language": "python",
   "name": "python3"
  },
  "language_info": {
   "codemirror_mode": {
    "name": "ipython",
    "version": 3
   },
   "file_extension": ".py",
   "mimetype": "text/x-python",
   "name": "python",
   "nbconvert_exporter": "python",
   "pygments_lexer": "ipython3",
   "version": "3.10.10"
  },
  "orig_nbformat": 4
 },
 "nbformat": 4,
 "nbformat_minor": 2
}
