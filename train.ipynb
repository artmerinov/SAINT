{
 "cells": [
  {
   "cell_type": "code",
   "execution_count": 25,
   "metadata": {},
   "outputs": [
    {
     "name": "stdout",
     "output_type": "stream",
     "text": [
      "The autoreload extension is already loaded. To reload it, use:\n",
      "  %reload_ext autoreload\n"
     ]
    }
   ],
   "source": [
    "import os\n",
    "\n",
    "import torch\n",
    "import torch.nn as nn\n",
    "from torch.utils.data import DataLoader\n",
    "from tqdm import tqdm\n",
    "from sklearn.metrics import roc_auc_score, accuracy_score\n",
    "\n",
    "from utils import Config, set_random_seed, get_last_checkpoint_path\n",
    "from dataset import get_dataset, train_test_split, RIIIDDataset\n",
    "from model import SaintPlusTransformer\n",
    "\n",
    "import matplotlib.pyplot as plt\n",
    "%matplotlib inline\n",
    "\n",
    "%load_ext autoreload\n",
    "%autoreload 2\n",
    "\n",
    "set_random_seed(0)"
   ]
  },
  {
   "cell_type": "markdown",
   "metadata": {},
   "source": [
    "# Get data"
   ]
  },
  {
   "cell_type": "code",
   "execution_count": 2,
   "metadata": {},
   "outputs": [
    {
     "data": {
      "text/plain": [
       "{'PATH_TO_TRAIN': 'data/train.csv',\n",
       " 'PATH_TO_QUESTIONS': 'data/questions.csv',\n",
       " 'PATH_TO_MODEL_WEIGHTS': 'weights',\n",
       " 'TR_FRAC': 0.8,\n",
       " 'MAX_LEN': 100,\n",
       " 'BATCH_SIZE': 64,\n",
       " 'QUESTION_VOCAB_SIZE': 13523,\n",
       " 'ANSWER_CORR_VOCAB_SIZE': 2,\n",
       " 'PART_VOCAB_SIZE': 7,\n",
       " 'TIME_LAG_VOCAB_SIZE': 1441,\n",
       " 'EMBED_SIZE': 128,\n",
       " 'HIDDEN_SIZE': 512,\n",
       " 'DROPOUT': 0.1,\n",
       " 'HEADS': 8,\n",
       " 'LAYERS': 1}"
      ]
     },
     "execution_count": 2,
     "metadata": {},
     "output_type": "execute_result"
    }
   ],
   "source": [
    "config = Config('config.yaml')\n",
    "config.__dict__"
   ]
  },
  {
   "cell_type": "code",
   "execution_count": 3,
   "metadata": {},
   "outputs": [],
   "source": [
    "data = get_dataset(config)\n",
    "tr_data, va_data = train_test_split(data=data, config=config)\n",
    "\n",
    "tr_data = RIIIDDataset(dataset=tr_data, config=config)\n",
    "va_data = RIIIDDataset(dataset=va_data, config=config)\n",
    "\n",
    "tr_dataloader = DataLoader(dataset=tr_data, batch_size=config.BATCH_SIZE, shuffle=True)\n",
    "va_dataloader = DataLoader(dataset=va_data, batch_size=config.BATCH_SIZE, shuffle=True)"
   ]
  },
  {
   "cell_type": "code",
   "execution_count": 4,
   "metadata": {},
   "outputs": [],
   "source": [
    "# tr_data.__getitem__(1234)"
   ]
  },
  {
   "cell_type": "code",
   "execution_count": 5,
   "metadata": {},
   "outputs": [],
   "source": [
    "# for tr_batch in tqdm(tr_dataloader):\n",
    "#     pass"
   ]
  },
  {
   "cell_type": "markdown",
   "metadata": {},
   "source": [
    "# Train"
   ]
  },
  {
   "cell_type": "code",
   "execution_count": 6,
   "metadata": {},
   "outputs": [],
   "source": [
    "device = torch.device(\"cuda\" if torch.cuda.is_available() else \"cpu\")\n",
    "\n",
    "model = SaintPlusTransformer(\n",
    "    question_vocab_size    = config.QUESTION_VOCAB_SIZE + 1,\n",
    "    answer_corr_vocab_size = config.ANSWER_CORR_VOCAB_SIZE + 1,\n",
    "    part_vocab_size        = config.PART_VOCAB_SIZE + 1,\n",
    "    time_lag_vocab_size    = config.TIME_LAG_VOCAB_SIZE + 1,\n",
    "    max_len                = config.MAX_LEN - 1,\n",
    "    embed_size             = config.EMBED_SIZE,\n",
    "    hidden_size            = config.HIDDEN_SIZE,\n",
    "    dropout                = config.DROPOUT,\n",
    "    heads                  = config.HEADS,\n",
    "    N                      = config.LAYERS\n",
    ").to(device)"
   ]
  },
  {
   "cell_type": "code",
   "execution_count": 86,
   "metadata": {},
   "outputs": [
    {
     "name": "stderr",
     "output_type": "stream",
     "text": [
      "Processing Epoch 00: 100%|██████████| 47/47 [00:30<00:00,  1.52it/s, loss=0.650]\n",
      "100%|██████████| 14/14 [00:02<00:00,  5.37it/s]"
     ]
    },
    {
     "name": "stdout",
     "output_type": "stream",
     "text": [
      "TR ACC: 0.5942 TR AUC: 0.6323\n",
      "VA ACC: 0.6228 VA AUC: 0.6780\n",
      "\n"
     ]
    },
    {
     "name": "stderr",
     "output_type": "stream",
     "text": [
      "\n"
     ]
    }
   ],
   "source": [
    "optimizer = torch.optim.Adam(params=model.parameters(), lr=1e-4, eps=1e-9)\n",
    "loss_fn = nn.CrossEntropyLoss(ignore_index=0).to(device)\n",
    "\n",
    "for epoch in range(1):\n",
    "\n",
    "    # TRAIN\n",
    "    # -----\n",
    "    \n",
    "    tr_true = []\n",
    "    tr_pred_label = []\n",
    "    tr_pred_probs = []\n",
    "\n",
    "    torch.cuda.empty_cache()\n",
    "    model.train()\n",
    "    batch_iterator = tqdm(tr_dataloader, desc=f\"Processing Epoch {epoch:02d}\")\n",
    "    for tr_batch in batch_iterator:\n",
    "        \n",
    "        # enc\n",
    "        ex = tr_batch['ex'].to(device)\n",
    "        ep = tr_batch['ep'].to(device)\n",
    "\n",
    "        # dec\n",
    "        ac = tr_batch['ac'].to(device) \n",
    "        tl = tr_batch['tl'].to(device) \n",
    "\n",
    "        # label\n",
    "        label = tr_batch['label'].to(device).long()\n",
    "\n",
    "        # masks\n",
    "        src_mask = tr_batch['src_mask'].to(device)\n",
    "        tgt_mask = tr_batch['tgt_mask'].to(device)\n",
    "\n",
    "        preds = model(\n",
    "            src=ex, \n",
    "            tgt=ac,\n",
    "            src_mask=src_mask, \n",
    "            tgt_mask=tgt_mask,\n",
    "            part=ep,\n",
    "            time_lag=tl,\n",
    "        )\n",
    "        \n",
    "        _, pred_labels = torch.max(preds[:,-1], dim=1)\n",
    "        pred_probs = torch.softmax(preds[:,-1][:,1:3], dim=-1)\n",
    "        \n",
    "        loss = loss_fn(\n",
    "            target=label.view(-1), # (batch_size * max_len)\n",
    "            input=preds.view(-1, config.ANSWER_CORR_VOCAB_SIZE + 1), # (batch_size * max_len, vocab_size)\n",
    "        )\n",
    "\n",
    "        batch_iterator.set_postfix({\"loss\": f\"{loss.item():6.3f}\"})\n",
    "\n",
    "        # backpropagate the loss\n",
    "        loss.backward()\n",
    "\n",
    "        # update the weights\n",
    "        optimizer.step()\n",
    "        optimizer.zero_grad(set_to_none=True)\n",
    "        \n",
    "        tr_true.extend(label[:,-1].cpu().detach().numpy())\n",
    "        tr_pred_label.extend(pred_labels.cpu().detach().numpy())\n",
    "        tr_pred_probs.extend(pred_probs[:,1].cpu().detach().numpy())\n",
    "    \n",
    "    # VALIDATION\n",
    "    # ----------\n",
    "\n",
    "    va_true = []\n",
    "    va_pred_label = []\n",
    "    va_pred_probs = []\n",
    "\n",
    "    model.eval()\n",
    "    with torch.no_grad():\n",
    "        for va_batch in tqdm(va_dataloader):\n",
    "\n",
    "            # enc\n",
    "            ex = va_batch['ex'].to(device)\n",
    "            ep = va_batch['ep'].to(device)\n",
    "\n",
    "            # dec\n",
    "            ac = va_batch['ac'].to(device) \n",
    "            tl = va_batch['tl'].to(device) \n",
    "\n",
    "            # label\n",
    "            label = va_batch['label'].to(device).long()\n",
    "\n",
    "            # masks\n",
    "            src_mask = va_batch['src_mask'].to(device)\n",
    "            tgt_mask = va_batch['tgt_mask'].to(device)\n",
    "\n",
    "            preds = model(\n",
    "                src=ex, \n",
    "                tgt=ac,\n",
    "                src_mask=src_mask, \n",
    "                tgt_mask=tgt_mask,\n",
    "                part=ep,\n",
    "                time_lag=tl,\n",
    "            )\n",
    "\n",
    "            _, pred_labels = torch.max(preds[:,-1], dim=1)\n",
    "            pred_probs = torch.softmax(preds[:,-1][:,1:3], dim=-1)\n",
    "\n",
    "            va_true.extend(label[:,-1].cpu().detach().numpy())\n",
    "            va_pred_label.extend(pred_labels.cpu().detach().numpy())\n",
    "            va_pred_probs.extend(pred_probs[:,1].cpu().detach().numpy())\n",
    "\n",
    "    print(f'TR ACC: {accuracy_score(tr_true, tr_pred_label):.4f} TR AUC: {roc_auc_score(tr_true, tr_pred_probs):.4f}')\n",
    "    print(f'VA ACC: {accuracy_score(va_true, va_pred_label):.4f} VA AUC: {roc_auc_score(va_true, va_pred_probs):.4f}')\n",
    "    print()\n",
    "\n",
    "    # SAVE MODEL\n",
    "    # ==========\n",
    "\n",
    "    model_filename = os.path.join(config.PATH_TO_MODEL_WEIGHTS, f'epoch_{epoch:02d}.pt')\n",
    "    if not os.path.exists(config.PATH_TO_MODEL_WEIGHTS):\n",
    "        os.mkdir(config.PATH_TO_MODEL_WEIGHTS)\n",
    "\n",
    "    torch.save({\n",
    "        'epoch': epoch,\n",
    "        'model_state_dict': model.state_dict(),\n",
    "        'optimizer_state_dict': optimizer.state_dict(),\n",
    "        'loss': loss,\n",
    "    }, model_filename)"
   ]
  },
  {
   "cell_type": "code",
   "execution_count": null,
   "metadata": {},
   "outputs": [],
   "source": []
  },
  {
   "cell_type": "markdown",
   "metadata": {},
   "source": [
    "# Visualise attention"
   ]
  },
  {
   "cell_type": "code",
   "execution_count": 105,
   "metadata": {},
   "outputs": [
    {
     "data": {
      "image/png": "[encoded data removed]",
      "text/plain": [
       "<Figure size 1000x500 with 3 Axes>"
      ]
     },
     "metadata": {},
     "output_type": "display_data"
    }
   ],
   "source": [
    "layer = 0 # layer to select (0, config.LAYERS) \n",
    "example = 0 # sequence to select (0, config.BATCH_SIZE) \n",
    "head = 7 # head to select (0, config.HEADS) \n",
    "\n",
    "enc_self_att = model.encoder.layers[layer].self_attention_block.attention_scores[example, head]\n",
    "dec_self_att = model.decoder.layers[layer].self_attention_block.attention_scores[example, head]\n",
    "dec_cross_att = model.decoder.layers[layer].cross_attention_block.attention_scores[example, head]\n",
    "\n",
    "fig, axes = plt.subplots(nrows=1, ncols=3, sharey=True, figsize=(10,5))\n",
    "axes[0].imshow(enc_self_att, cmap='gray')\n",
    "axes[1].imshow(dec_self_att, cmap='gray')\n",
    "axes[2].imshow(dec_cross_att, cmap='gray');"
   ]
  },
  {
   "cell_type": "code",
   "execution_count": null,
   "metadata": {},
   "outputs": [],
   "source": []
  },
  {
   "cell_type": "markdown",
   "metadata": {},
   "source": [
    "# Load checkpoint"
   ]
  },
  {
   "cell_type": "code",
   "execution_count": 82,
   "metadata": {},
   "outputs": [
    {
     "data": {
      "text/plain": [
       "<All keys matched successfully>"
      ]
     },
     "execution_count": 82,
     "metadata": {},
     "output_type": "execute_result"
    }
   ],
   "source": [
    "last_checkpoint_path = get_last_checkpoint_path(config=config)\n",
    "state = torch.load(f=last_checkpoint_path)\n",
    "model.load_state_dict(state['model_state_dict'])"
   ]
  },
  {
   "cell_type": "code",
   "execution_count": 83,
   "metadata": {},
   "outputs": [
    {
     "data": {
      "text/plain": [
       "tensor([[-0.1497, -0.0826, -0.1326,  ...,  0.0877, -0.0290,  0.0912],\n",
       "        [ 0.0392,  0.0764, -0.0783,  ...,  0.0451, -0.1167,  0.1195],\n",
       "        [-0.0748,  0.0248,  0.1058,  ..., -0.0047,  0.0439,  0.1457],\n",
       "        ...,\n",
       "        [-0.0140, -0.0805, -0.0741,  ...,  0.1304,  0.0520, -0.0648],\n",
       "        [ 0.1499, -0.1159,  0.0345,  ..., -0.1117,  0.0533, -0.0823],\n",
       "        [-0.1262,  0.0586, -0.0836,  ...,  0.1427, -0.0047,  0.1112]])"
      ]
     },
     "execution_count": 83,
     "metadata": {},
     "output_type": "execute_result"
    }
   ],
   "source": [
    "model.encoder.layers[0].self_attention_block.w_q.weight.data"
   ]
  },
  {
   "cell_type": "code",
   "execution_count": null,
   "metadata": {},
   "outputs": [],
   "source": []
  }
 ],
 "metadata": {
  "kernelspec": {
   "display_name": ".venv",
   "language": "python",
   "name": "python3"
  },
  "language_info": {
   "codemirror_mode": {
    "name": "ipython",
    "version": 3
   },
   "file_extension": ".py",
   "mimetype": "text/x-python",
   "name": "python",
   "nbconvert_exporter": "python",
   "pygments_lexer": "ipython3",
   "version": "3.10.10"
  },
  "orig_nbformat": 4
 },
 "nbformat": 4,
 "nbformat_minor": 2
}
